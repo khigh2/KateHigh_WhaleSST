{
 "cells": [
  {
   "cell_type": "code",
   "execution_count": null,
   "id": "bdc90ac3",
   "metadata": {},
   "outputs": [],
   "source": [
    "# Modules\n",
    "import warnings\n",
    "warnings.simplefilter('ignore') # filter some warning messages\n",
    "\n",
    "import numpy as np\n",
    "import pandas as pd\n",
    "import xarray as xr\n",
    "from calendar import monthrange"
   ]
  },
  {
   "cell_type": "code",
   "execution_count": null,
   "id": "4d7634d3",
   "metadata": {
    "scrolled": true
   },
   "outputs": [],
   "source": [
    "# anomalies of SST\n",
    "dsa = xr.open_mfdataset('./OISSTa/OISST_*.nc')\n",
    "iy=dsa['time.year'].min().data\n",
    "fy=dsa['time.year'].max().data\n",
    "dsa"
   ]
  },
  {
   "cell_type": "code",
   "execution_count": null,
   "id": "3586e623",
   "metadata": {
    "scrolled": true
   },
   "outputs": [],
   "source": [
    "# SST climatology\n",
    "dsc = xr.open_dataset('./OISSTa/OISSTdV2_KateHigh_Cal.nc')\n",
    "dsc.close()\n",
    "dscm = dsc.resample(time='1M').mean(keep_attrs=True,skipna=False)\n",
    "dscm"
   ]
  },
  {
   "cell_type": "code",
   "execution_count": null,
   "id": "13c8b934",
   "metadata": {
    "scrolled": true
   },
   "outputs": [],
   "source": [
    "# read whale data in csv format\n",
    "mam = pd.read_csv('stranding data for marisol.csv')\n",
    "mam['SSTa (C)']=np.nan\n",
    "mam['SST (C)']=np.nan\n",
    "#list(mam)"
   ]
  },
  {
   "cell_type": "code",
   "execution_count": null,
   "id": "58687a12",
   "metadata": {
    "scrolled": true
   },
   "outputs": [],
   "source": [
    "# collocate data\n",
    "# list the nmber of records processed\n",
    "for row in mam.iterrows():\n",
    "    lats = row[1]['georeferenced latitude']\n",
    "    lons = row[1]['georeferenced longitude']\n",
    "    years = row[1]['year']\n",
    "    months = row[1]['month']\n",
    "        \n",
    "    # colocate data\n",
    "    fecha1 = str(years)+'-'+str(months).zfill(2)+'-01'\n",
    "    edy = monthrange(years, months)[1]\n",
    "    fecha2 = str(years)+'-'+str(months).zfill(2)+'-'+str(edy).zfill(2)\n",
    "    #print(fecha1, fecha2)\n",
    "    t = dsa.sel(lat=float(lats),lon=float(lons)+360, method='ffill', tolerance=0.3)\n",
    "    t2 = t.sel(time=slice(fecha1,fecha2)).anom.mean()\n",
    "    print('.')\n",
    "    mam.at[row[0],'SSTa (C)'] = t2.values\n",
    "    \n",
    "    # values\n",
    "    t3 = dscm.sel(lat=float(lats),lon=float(lons)+360, method='ffill', tolerance=0.3)\n",
    "    t4 = t3.sst[months-1].values\n",
    "    mam.at[row[0],'SST (C)'] = t2.values + t4"
   ]
  },
  {
   "cell_type": "code",
   "execution_count": null,
   "id": "3b2476aa",
   "metadata": {
    "scrolled": true
   },
   "outputs": [],
   "source": [
    "# save the file\n",
    "mam[{'georeferenced longitude','georeferenced latitude','month','year','SSTa (C)'}]\n",
    "mam.to_csv('stranding data collocated SST 29March2022.csv')"
   ]
  }
 ],
 "metadata": {
  "kernelspec": {
   "display_name": "Python 3 (ipykernel)",
   "language": "python",
   "name": "python3"
  },
  "language_info": {
   "codemirror_mode": {
    "name": "ipython",
    "version": 3
   },
   "file_extension": ".py",
   "mimetype": "text/x-python",
   "name": "python",
   "nbconvert_exporter": "python",
   "pygments_lexer": "ipython3",
   "version": "3.9.7"
  }
 },
 "nbformat": 4,
 "nbformat_minor": 5
}
